{
 "cells": [
  {
   "cell_type": "code",
   "execution_count": 1,
   "id": "43650383-0ecd-4955-a424-388184f1786f",
   "metadata": {
    "tags": []
   },
   "outputs": [],
   "source": [
    "# Final Project Code:\n",
    "import pandas as pd\n",
    "import numpy as np\n",
    "import matplotlib.pyplot as plt\n",
    "\n",
    "def convert_latitude(latitude_str):\n",
    "    numerical_part = latitude_str.split('°')[0]  # Extract numerical part before '°'\n",
    "    numerical_value = float(numerical_part)\n",
    "    \n",
    "    if 'S' in latitude_str:\n",
    "        numerical_value = -numerical_value  # If latitude is in Southern hemisphere\n",
    "    \n",
    "    return numerical_value\n",
    "\n",
    "def convert_longitude(longitude_str):\n",
    "    numerical_part = longitude_str.split('°')[0]  # Extract numerical part before '°'\n",
    "    numerical_value = float(numerical_part)\n",
    "    \n",
    "    if 'W' in longitude_str:\n",
    "        numerical_value = -numerical_value  # If longitude is in Western hemisphere\n",
    "    \n",
    "    return numerical_value"
   ]
  },
  {
   "cell_type": "code",
   "execution_count": 10,
   "id": "d7808966-4cf6-4533-9b43-db6a65c2eb0f",
   "metadata": {
    "tags": []
   },
   "outputs": [],
   "source": [
    "file_path = 'MLS_Master_Sheet.XLSX'\n",
    "\n",
    "# Read the Excel file into a DataFrame\n",
    "df = pd.read_excel(file_path)"
   ]
  },
  {
   "cell_type": "code",
   "execution_count": 11,
   "id": "e8a6f43f-9ce4-44ba-ba52-7ecf75be7343",
   "metadata": {
    "tags": []
   },
   "outputs": [],
   "source": [
    "df['Latitude'] = df['Latitude'].apply(convert_latitude)\n",
    "df['Longitude'] = df['Longitude'].apply(convert_longitude)"
   ]
  },
  {
   "cell_type": "code",
   "execution_count": 13,
   "id": "d23bc689-c710-40b1-af90-f41d9e5d80dc",
   "metadata": {
    "tags": []
   },
   "outputs": [
    {
     "data": {
      "text/html": [
       "\n",
       "        <iframe\n",
       "            width=\"100%\"\n",
       "            height=\"650\"\n",
       "            src=\"http://127.0.0.1:8053/\"\n",
       "            frameborder=\"0\"\n",
       "            allowfullscreen\n",
       "            \n",
       "        ></iframe>\n",
       "        "
      ],
      "text/plain": [
       "<IPython.lib.display.IFrame at 0x1a81bc10100>"
      ]
     },
     "metadata": {},
     "output_type": "display_data"
    }
   ],
   "source": [
    "import plotly.graph_objects as go\n",
    "import pandas as pd\n",
    "import dash\n",
    "from dash import dcc, html\n",
    "from dash.dependencies import Input, Output\n",
    "import time\n",
    "\n",
    " \n",
    "\n",
    "# Reset index after groupby\n",
    "df = df.groupby(['Year', 'Tm']).sum().reset_index()\n",
    "\n",
    " \n",
    "\n",
    "# Create a Dash web application\n",
    "app = dash.Dash(__name__)\n",
    "\n",
    " \n",
    "\n",
    "# Define the app layout\n",
    "app.layout = html.Div([\n",
    "    dcc.Graph(id='animated-map'),\n",
    "    dcc.Interval(\n",
    "        id='interval-component',\n",
    "        interval=1000,  # Update interval in milliseconds\n",
    "        n_intervals=0\n",
    "    )\n",
    "])\n",
    "\n",
    " \n",
    "\n",
    "@app.callback(\n",
    "    Output('animated-map', 'figure'),\n",
    "    Input('interval-component', 'n_intervals')\n",
    ")\n",
    "def update_map(n_intervals):\n",
    "    year_index = n_intervals % len(df['Year'].unique())\n",
    "    year = df['Year'].unique()[year_index]\n",
    "\n",
    " \n",
    "\n",
    "    # Create an animated scatter plot using Plotly graph_objects\n",
    "    fig = go.Figure()\n",
    "\n",
    " \n",
    "\n",
    "    hover_text = []\n",
    "    for index, row in df[df['Year'] == year].iterrows():\n",
    "        champion_text = \"Champion\" if row['Champion'] == 1 else \"Not Champion\"\n",
    "        text = f\"Team: {row['Tm']}<br>Year: {year}<br>W-L%: {row['W-L%']}<br>{champion_text}\"\n",
    "        hover_text.append(text)\n",
    "\n",
    " \n",
    "\n",
    "    scatter = go.Scattergeo(\n",
    "        lon=df[df['Year'] == year]['Longitude'],\n",
    "        lat=df[df['Year'] == year]['Latitude'],\n",
    "        text=hover_text,  # Updated text property for hover information\n",
    "        mode='markers',\n",
    "        marker=dict(\n",
    "            size=df[df['Year'] == year]['W-L%'] * 50,\n",
    "            color=df[df['Year'] == year]['W-L%'],\n",
    "            colorscale='Viridis',\n",
    "            cmin=0.1,\n",
    "            cmax=0.9,\n",
    "            colorbar=dict(title='Win-Loss Percentage'),\n",
    "        ),\n",
    "        name=str(year),\n",
    "    )\n",
    "    fig.add_trace(scatter)\n",
    "\n",
    " \n",
    "\n",
    "    fig.update_geos(\n",
    "        scope='usa',\n",
    "        showcoastlines=True,\n",
    "        coastlinecolor=\"RebeccaPurple\",\n",
    "        showland=True,\n",
    "        landcolor=\"LightGreen\",\n",
    "        showsubunits=True,\n",
    "        subunitcolor=\"gray\",\n",
    "    )\n",
    "\n",
    " \n",
    "\n",
    "    champion_team = df[(df['Year'] == year) & (df['Champion'] == 1)]['Tm'].values\n",
    "    if champion_team:\n",
    "        champion_text = f'Champion: {champion_team[0]}'\n",
    "    else:\n",
    "        champion_text = 'No Champion'\n",
    "\n",
    " \n",
    "\n",
    "    fig.update_layout(\n",
    "        title=f'MLS Win-Loss Percentage Over Time - {year}<br>{champion_text}',\n",
    "        title_x=0.5  # Center the title\n",
    "    )\n",
    "\n",
    " \n",
    "\n",
    "    return fig\n",
    "\n",
    " \n",
    "\n",
    "if __name__ == '__main__':\n",
    "    app.run_server(debug=True, port = 8053)"
   ]
  },
  {
   "cell_type": "code",
   "execution_count": null,
   "id": "f74254bc-6cd9-4372-a434-8919f17a2200",
   "metadata": {},
   "outputs": [],
   "source": []
  }
 ],
 "metadata": {
  "kernelspec": {
   "display_name": "Python 3 (ipykernel)",
   "language": "python",
   "name": "python3"
  },
  "language_info": {
   "codemirror_mode": {
    "name": "ipython",
    "version": 3
   },
   "file_extension": ".py",
   "mimetype": "text/x-python",
   "name": "python",
   "nbconvert_exporter": "python",
   "pygments_lexer": "ipython3",
   "version": "3.10.9"
  }
 },
 "nbformat": 4,
 "nbformat_minor": 5
}
